{
 "cells": [
  {
   "cell_type": "markdown",
   "id": "b352d745",
   "metadata": {},
   "source": [
    "# Retail Transactions Data Exploration & Neo4j Import\n",
    "\n",
    "This notebook will help you explore the Kaggle retail transactions data, clean it, and prepare Cypher queries for Neo4j import."
   ]
  },
  {
   "cell_type": "code",
   "execution_count": null,
   "id": "bc887246",
   "metadata": {},
   "outputs": [],
   "source": [
    "# Import required libraries\n",
    "import pandas as pd\n",
    "import numpy as np\n",
    "import matplotlib.pyplot as plt\n",
    "import seaborn as sns"
   ]
  },
  {
   "cell_type": "code",
   "execution_count": null,
   "id": "1bb3c924",
   "metadata": {},
   "outputs": [],
   "source": [
    "# Load the retail transactions data\n",
    "df = pd.read_csv('../data/retail_transactions.csv')\n",
    "df.head()"
   ]
  },
  {
   "cell_type": "markdown",
   "id": "042a5888",
   "metadata": {},
   "source": [
    "## Data Overview\n",
    "- Check for missing values, data types, and basic statistics."
   ]
  },
  {
   "cell_type": "code",
   "execution_count": null,
   "id": "b9079ec7",
   "metadata": {},
   "outputs": [],
   "source": [
    "df.info()\n",
    "df.describe(include='all')"
   ]
  },
  {
   "cell_type": "markdown",
   "id": "300bc954",
   "metadata": {},
   "source": [
    "## Data Cleaning\n",
    "- Remove rows with missing Customer ID or Product Description.\n",
    "- Remove negative or zero quantities.\n",
    "- Remove duplicates."
   ]
  },
  {
   "cell_type": "code",
   "execution_count": null,
   "id": "0697311c",
   "metadata": {},
   "outputs": [],
   "source": [
    "df = df.dropna(subset=['Customer ID', 'Description'])\n",
    "df = df[df['Quantity'] > 0]\n",
    "df = df.drop_duplicates()\n",
    "df.reset_index(drop=True, inplace=True)\n",
    "df.head()"
   ]
  },
  {
   "cell_type": "markdown",
   "id": "279d884c",
   "metadata": {},
   "source": [
    "## Prepare Data for Neo4j Import\n",
    "- Extract unique Customers, Products, and Transactions.\n",
    "- Prepare Cypher queries or CSVs for import."
   ]
  },
  {
   "cell_type": "code",
   "execution_count": null,
   "id": "f0508f41",
   "metadata": {},
   "outputs": [],
   "source": [
    "# Unique customers\n",
    "customers = df[['Customer ID', 'Country']].drop_duplicates().rename(columns={'Customer ID': 'customer_id', 'Country': 'country'})\n",
    "# Unique products\n",
    "products = df[['StockCode', 'Description']].drop_duplicates().rename(columns={'StockCode': 'product_id', 'Description': 'description'})\n",
    "# Transactions\n",
    "transactions = df[['Invoice', 'InvoiceDate', 'Customer ID']].drop_duplicates().rename(columns={'Invoice': 'invoice_id', 'InvoiceDate': 'date', 'Customer ID': 'customer_id'})\n",
    "# Transaction-Product relationships\n",
    "transaction_products = df[['Invoice', 'StockCode', 'Quantity', 'Price']].rename(columns={'Invoice': 'invoice_id', 'StockCode': 'product_id', 'Quantity': 'quantity', 'Price': 'price'})\n",
    "customers.head(), products.head(), transactions.head(), transaction_products.head()"
   ]
  },
  {
   "cell_type": "markdown",
   "id": "e969f81c",
   "metadata": {},
   "source": [
    "## (Optional) Export for Neo4j Bulk Import\n",
    "You can export these DataFrames as CSVs for Neo4j's [LOAD CSV](https://neo4j.com/docs/cypher-manual/current/clauses/load-csv/) command."
   ]
  },
  {
   "cell_type": "code",
   "execution_count": null,
   "id": "221600ec",
   "metadata": {},
   "outputs": [],
   "source": [
    "customers.to_csv('../data/customers.csv', index=False)\n",
    "products.to_csv('../data/products.csv', index=False)\n",
    "transactions.to_csv('../data/transactions.csv', index=False)\n",
    "transaction_products.to_csv('../data/transaction_products.csv', index=False)"
   ]
  },
  {
   "cell_type": "markdown",
   "id": "38af2ad9",
   "metadata": {},
   "source": [
    "## Next: Cypher Scripts for Neo4j Import\n",
    "- Use the exported CSVs and write Cypher queries to create nodes and relationships in Neo4j."
   ]
  }
 ],
 "metadata": {
  "language_info": {
   "name": "python"
  }
 },
 "nbformat": 4,
 "nbformat_minor": 5
}
